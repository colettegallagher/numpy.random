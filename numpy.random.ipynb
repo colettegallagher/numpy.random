{
 "cells": [
  {
   "cell_type": "markdown",
   "metadata": {},
   "source": [
    " ![numpy logo](data:image/jpeg;base64,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)"
   ]
  },
  {
   "cell_type": "markdown",
   "metadata": {},
   "source": [
    "# The numpy.random package\n",
    "    "
   ]
  },
  {
   "cell_type": "markdown",
   "metadata": {},
   "source": [
    "Numpy is a library for the Python programming language.  It is used to illustrate multi-dimensional data arrays and data structures.  Its purpose is to generate random numbers.  It uses an algorithm, called the Mersenne Twister, to generate pseudorandom numbers.\n",
    "\n",
    "Information on the Numpy package's different types of random sampling available can be found at [numpy.random](https://docs.scipy.org/doc/numpy-1.15.1/reference/routines.random.html)"
   ]
  },
  {
   "cell_type": "markdown",
   "metadata": {},
   "source": [
    "Numpy Random Sampling can be divided into the following categories:\n",
    "* Simple Random Data\n",
    "* Permutations\n",
    "* Distributions\n",
    "* Random Generator"
   ]
  },
  {
   "cell_type": "markdown",
   "metadata": {},
   "source": [
    "## Simple Random Data\n",
    "The Simple Random Data function in the numpy.random package is used to gather a smaller sample from a larger sample.  This smaller sample is then used to research and make generalisations about the larger sample.  The smaller sample is easier to assemble and use.  It is seen as an accurate representation of the larger sample.\n",
    "\n",
    "Examples of the Simple Random Data Functions include:\n",
    "1.  **rand(d0, d1, …, dn)**  The Random Sample's values are in a given shape.  An array can be created in a given shape which can be populated with random samples from an uniform distribution ove [0< 1]. <br>\n",
    "<br>\n",
    "The below example generates random numbers in 4 rows and 5 columns\n",
    "\n",
    "\n"
   ]
  },
  {
   "cell_type": "code",
   "execution_count": 5,
   "metadata": {},
   "outputs": [],
   "source": [
    "import matplotlib.pyplot as plt"
   ]
  },
  {
   "cell_type": "code",
   "execution_count": 6,
   "metadata": {},
   "outputs": [],
   "source": [
    "import numpy as np"
   ]
  },
  {
   "cell_type": "code",
   "execution_count": 18,
   "metadata": {},
   "outputs": [
    {
     "data": {
      "text/plain": [
       "array([[0.30463138, 0.37129946, 0.66553149, 0.0662033 , 0.54577916],\n",
       "       [0.39996985, 0.3524749 , 0.2929809 , 0.20883789, 0.82133602],\n",
       "       [0.39332446, 0.95983901, 0.89792174, 0.96544063, 0.96361252],\n",
       "       [0.74972674, 0.6989039 , 0.20869717, 0.2800888 , 0.30142249]])"
      ]
     },
     "execution_count": 18,
     "metadata": {},
     "output_type": "execute_result"
    }
   ],
   "source": [
    "np.random.rand(4,5)"
   ]
  },
  {
   "cell_type": "markdown",
   "metadata": {},
   "source": [
    "2.  **choice(a[, size, replace, p])**\tThis generates a random sample from a given 1-D array <br>\n",
    "<br>\n",
    "The below example generates 5 random numbers between 0 and 15."
   ]
  },
  {
   "cell_type": "code",
   "execution_count": 23,
   "metadata": {},
   "outputs": [
    {
     "data": {
      "text/plain": [
       "array([ 4, 14, 12,  1,  7])"
      ]
     },
     "execution_count": 23,
     "metadata": {},
     "output_type": "execute_result"
    }
   ],
   "source": [
    " np.random.choice(15, 5)\n"
   ]
  },
  {
   "cell_type": "markdown",
   "metadata": {},
   "source": [
    "## Permutations\n",
    "The Permutations function in the numpy.random package is used to organise a sample into a sequence or order, or to reorganise a sample.\n",
    "\n",
    "The two Permutations Functions are:"
   ]
  },
  {
   "cell_type": "markdown",
   "metadata": {},
   "source": [
    "1.  **shuffle(x)**\tThis is used to change a sequence by shuffling the contents of the sample.  The order of the contents changes but the contents stay the same.<br>\n",
    "<br>\n",
    "The below example will randomly shuffle the numbers from 0-50 everytime it is run."
   ]
  },
  {
   "cell_type": "code",
   "execution_count": 32,
   "metadata": {},
   "outputs": [
    {
     "data": {
      "text/plain": [
       "array([ 6,  5, 34, 17, 20, 22,  4, 46, 29,  0,  1, 19, 16, 11, 39, 37, 43,\n",
       "       21, 32, 47, 45, 35, 15, 48, 30, 10, 26, 18,  2, 27, 24,  8, 12, 14,\n",
       "       31, 33, 41,  7, 25, 40, 38, 13, 23, 49, 42,  3,  9, 28, 44, 36])"
      ]
     },
     "execution_count": 32,
     "metadata": {},
     "output_type": "execute_result"
    }
   ],
   "source": [
    "arr = np.arange(50)\n",
    "np.random.shuffle(arr)\n",
    "arr"
   ]
  },
  {
   "cell_type": "markdown",
   "metadata": {},
   "source": [
    "2.  **permutation(x)**\tThis randomly arranges the contents of the sample into a sequence or order.<br>\n",
    "<br>\n",
    "The below example with randomly shuffle 12 numbers in 4 rows and 3 columns.  The number of numbers chosen must match the number of rows and columns eg 9 numbers in 3 rows and 3 columns."
   ]
  },
  {
   "cell_type": "code",
   "execution_count": 38,
   "metadata": {},
   "outputs": [
    {
     "data": {
      "text/plain": [
       "array([[ 6,  7,  8],\n",
       "       [ 9, 10, 11],\n",
       "       [ 3,  4,  5],\n",
       "       [ 0,  1,  2]])"
      ]
     },
     "execution_count": 38,
     "metadata": {},
     "output_type": "execute_result"
    }
   ],
   "source": [
    "arr = np.arange(12).reshape((4, 3))\n",
    "np.random.permutation(arr)"
   ]
  },
  {
   "cell_type": "markdown",
   "metadata": {},
   "source": [
    "## Distributions\n",
    "5 examples needed"
   ]
  },
  {
   "cell_type": "code",
   "execution_count": null,
   "metadata": {},
   "outputs": [],
   "source": []
  },
  {
   "cell_type": "markdown",
   "metadata": {},
   "source": [
    "Unless you'd like to seed both of the random generators, it's probably simpler in the long run to choose one generator or the other.\n",
    "\n",
    "For numpy.random.seed(), the main difficulty is that it is not thread-safe - that is, it's not safe to use if you have many different threads of execution, because it's not guaranteed to work if two different threads are executing the function at the same time. If you're not using threads, and if you can reasonably expect that you won't need to rewrite your program this way in the future, numpy.random.seed() should be fine. If there's any reason to suspect that you may need threads in the future, it's much safer in the long run to do as suggested, and to make a local instance of the numpy.random.Random class. As far as I can tell, random.random.seed() is thread-safe (or at least, I haven't found any evidence to the contrary).\n",
    "\n",
    "The numpy.random library contains a few extra probability distributions commonly used in scientific research, as well as a couple of convenience functions for generating arrays of random data. The random.random library is a little more lightweight, and should be fine if you're not doing scientific research or other kinds of work in statistics.\n",
    "\n",
    "Otherwise, they both use the Mersenne twister sequence to generate their random numbers, and they're both completely deterministic - that is, if you know a few key bits of information, it's possible to predict with absolute certainty what number will come next. For this reason, neither numpy.random nor random.random is suitable for any serious cryptographic uses. But because the sequence is so very very long, both are fine for generating random numbers in cases where you aren't worried about people trying to reverse-engineer your data. This is also the reason for the necessity to seed the random value - if you start in the same place each time, you'll always get the same sequence of random numbers!"
   ]
  },
  {
   "cell_type": "raw",
   "metadata": {},
   "source": []
  },
  {
   "cell_type": "markdown",
   "metadata": {},
   "source": [
    "https://stackoverflow.com/questions/7029993/differences-between-numpy-random-and-random-random-in-python<br>\n",
    "https://docs.scipy.org/doc/numpy-1.15.1/reference/routines.random.html<br>\n",
    "https://machinelearningmastery.com/how-to-generate-random-numbers-in-python/<br>\n",
    "https://www.packtpub.com/mapt/book/big_data_and_business_intelligence/9781785285110/2/ch02lvl1sec16/numpy-random-numbers seed <br> \n",
    "https://realpython.com/python-random/   seed <br>\n",
    "https://thomasleeper.com/Rcourse/Tutorials/permutationtests.html <br>\n",
    "https://en.wikipedia.org/wiki/Resampling_(statistics)#Permutation_tests <br>\n",
    "https://en.wikipedia.org/wiki/NumPy <br>"
   ]
  },
  {
   "cell_type": "code",
   "execution_count": null,
   "metadata": {},
   "outputs": [],
   "source": []
  }
 ],
 "metadata": {
  "kernelspec": {
   "display_name": "Python 3",
   "language": "python",
   "name": "python3"
  },
  "language_info": {
   "codemirror_mode": {
    "name": "ipython",
    "version": 3
   },
   "file_extension": ".py",
   "mimetype": "text/x-python",
   "name": "python",
   "nbconvert_exporter": "python",
   "pygments_lexer": "ipython3",
   "version": "3.6.6"
  }
 },
 "nbformat": 4,
 "nbformat_minor": 2
}
